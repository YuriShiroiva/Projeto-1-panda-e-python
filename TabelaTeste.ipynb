{
  "nbformat": 4,
  "nbformat_minor": 0,
  "metadata": {
    "colab": {
      "provenance": []
    },
    "kernelspec": {
      "name": "python3",
      "display_name": "Python 3"
    },
    "language_info": {
      "name": "python"
    }
  },
  "cells": [
    {
      "cell_type": "code",
      "execution_count": 2,
      "metadata": {
        "id": "Z1XKVpGaf9I4"
      },
      "outputs": [],
      "source": [
        "import pandas as pd"
      ]
    },
    {
      "cell_type": "code",
      "source": [
        "import pandas as pd\n",
        "\n",
        "Paises = {'País': {0: 'Brasil',\n",
        "                       1: 'Estados Unidos',\n",
        "                       2: 'Japão',\n",
        "                       3: 'China',\n",
        "                       4: 'Alemanha'},\n",
        "            'RendaPerCapita': {0: 'US$ 11.075 mil',\n",
        "                          1: 'US$ 65.111 mil',\n",
        "                          2: 'US$ 40.846 mil',\n",
        "                          3: 'US$ 10.098 mil',\n",
        "                          4: 'US$ 46.563 mil'},\n",
        "            'PIB': {0: 'US$ 1,363,767 Trilhões',\n",
        "                        1: 'US$ 20,580,250 Trilhões',\n",
        "                        2: 'US$ 4,910,580 Trilhões',\n",
        "                        3: 'US$ 14,860,775 Trilhões',\n",
        "                        4: 'US$ 3,780,553 Trilhões'}}\n",
        "\n",
        "df = pd.DataFrame(Paises)\n",
        "\n",
        "left_aligned_df = df.style.set_properties(**{'text-align': 'left'})\n",
        " \n",
        "left_aligned_df = left_aligned_df.set_table_styles(\n",
        "[dict(selector = 'th', props=[('text-align', 'left')])])\n",
        " \n",
        "display(left_aligned_df)\n",
        "\n"
      ],
      "metadata": {
        "id": "F1Y1ykangv8d",
        "colab": {
          "base_uri": "https://localhost:8080/",
          "height": 206
        },
        "outputId": "04b65902-79b2-4efe-f899-057c9dfd4eae"
      },
      "execution_count": 10,
      "outputs": [
        {
          "output_type": "display_data",
          "data": {
            "text/plain": [
              "<pandas.io.formats.style.Styler at 0x7ff0d63fce50>"
            ],
            "text/html": [
              "<style type=\"text/css\">\n",
              "#T_8d590_ th {\n",
              "  text-align: left;\n",
              "}\n",
              "#T_8d590_row0_col0, #T_8d590_row0_col1, #T_8d590_row0_col2, #T_8d590_row1_col0, #T_8d590_row1_col1, #T_8d590_row1_col2, #T_8d590_row2_col0, #T_8d590_row2_col1, #T_8d590_row2_col2, #T_8d590_row3_col0, #T_8d590_row3_col1, #T_8d590_row3_col2, #T_8d590_row4_col0, #T_8d590_row4_col1, #T_8d590_row4_col2 {\n",
              "  text-align: left;\n",
              "}\n",
              "</style>\n",
              "<table id=\"T_8d590_\" class=\"dataframe\">\n",
              "  <thead>\n",
              "    <tr>\n",
              "      <th class=\"blank level0\" >&nbsp;</th>\n",
              "      <th class=\"col_heading level0 col0\" >País</th>\n",
              "      <th class=\"col_heading level0 col1\" >RendaPerCapita</th>\n",
              "      <th class=\"col_heading level0 col2\" >PIB</th>\n",
              "    </tr>\n",
              "  </thead>\n",
              "  <tbody>\n",
              "    <tr>\n",
              "      <th id=\"T_8d590_level0_row0\" class=\"row_heading level0 row0\" >0</th>\n",
              "      <td id=\"T_8d590_row0_col0\" class=\"data row0 col0\" >Brasil</td>\n",
              "      <td id=\"T_8d590_row0_col1\" class=\"data row0 col1\" >US$ 11.075 mil</td>\n",
              "      <td id=\"T_8d590_row0_col2\" class=\"data row0 col2\" >US$ 1,363,767 Trilhões</td>\n",
              "    </tr>\n",
              "    <tr>\n",
              "      <th id=\"T_8d590_level0_row1\" class=\"row_heading level0 row1\" >1</th>\n",
              "      <td id=\"T_8d590_row1_col0\" class=\"data row1 col0\" >Estados Unidos</td>\n",
              "      <td id=\"T_8d590_row1_col1\" class=\"data row1 col1\" >US$ 65.111 mil</td>\n",
              "      <td id=\"T_8d590_row1_col2\" class=\"data row1 col2\" >US$ 20,580,250 Trilhões</td>\n",
              "    </tr>\n",
              "    <tr>\n",
              "      <th id=\"T_8d590_level0_row2\" class=\"row_heading level0 row2\" >2</th>\n",
              "      <td id=\"T_8d590_row2_col0\" class=\"data row2 col0\" >Japão</td>\n",
              "      <td id=\"T_8d590_row2_col1\" class=\"data row2 col1\" >US$ 40.846 mil</td>\n",
              "      <td id=\"T_8d590_row2_col2\" class=\"data row2 col2\" >US$ 4,910,580 Trilhões</td>\n",
              "    </tr>\n",
              "    <tr>\n",
              "      <th id=\"T_8d590_level0_row3\" class=\"row_heading level0 row3\" >3</th>\n",
              "      <td id=\"T_8d590_row3_col0\" class=\"data row3 col0\" >China</td>\n",
              "      <td id=\"T_8d590_row3_col1\" class=\"data row3 col1\" >US$ 10.098 mil</td>\n",
              "      <td id=\"T_8d590_row3_col2\" class=\"data row3 col2\" >US$ 14,860,775 Trilhões</td>\n",
              "    </tr>\n",
              "    <tr>\n",
              "      <th id=\"T_8d590_level0_row4\" class=\"row_heading level0 row4\" >4</th>\n",
              "      <td id=\"T_8d590_row4_col0\" class=\"data row4 col0\" >Alemanha</td>\n",
              "      <td id=\"T_8d590_row4_col1\" class=\"data row4 col1\" >US$ 46.563 mil</td>\n",
              "      <td id=\"T_8d590_row4_col2\" class=\"data row4 col2\" >US$ 3,780,553 Trilhões</td>\n",
              "    </tr>\n",
              "  </tbody>\n",
              "</table>\n"
            ]
          },
          "metadata": {}
        }
      ]
    }
  ]
}